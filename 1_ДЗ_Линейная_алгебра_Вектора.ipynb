{
  "cells": [
    {
      "cell_type": "markdown",
      "metadata": {
        "id": "view-in-github",
        "colab_type": "text"
      },
      "source": [
        "<a href=\"https://colab.research.google.com/github/MarinaMur/Pyda_HW/blob/master/1_%D0%94%D0%97_%D0%9B%D0%B8%D0%BD%D0%B5%D0%B9%D0%BD%D0%B0%D1%8F_%D0%B0%D0%BB%D0%B3%D0%B5%D0%B1%D1%80%D0%B0_%D0%92%D0%B5%D0%BA%D1%82%D0%BE%D1%80%D0%B0.ipynb\" target=\"_parent\"><img src=\"https://colab.research.google.com/assets/colab-badge.svg\" alt=\"Open In Colab\"/></a>"
      ]
    },
    {
      "cell_type": "code",
      "execution_count": null,
      "metadata": {
        "id": "bupHn0INXsBa"
      },
      "outputs": [],
      "source": [
        "import pandas as pd\n",
        "import numpy as np\n",
        "from pymystem3 import Mystem\n",
        "import re\n",
        "from numpy import linalg as LA\n",
        "from sympy import diff\n",
        "from sympy.abc import x, y\n",
        "from sympy import *"
      ]
    },
    {
      "cell_type": "markdown",
      "metadata": {
        "id": "Abayiu1nXn81"
      },
      "source": [
        "## Домашнее задание №0 - Основные математические понятия"
      ]
    },
    {
      "cell_type": "markdown",
      "metadata": {
        "id": "TJBnI9NaXn9C"
      },
      "source": [
        "### Задание 1."
      ]
    },
    {
      "cell_type": "markdown",
      "metadata": {
        "id": "ZTPNYokqXn9E"
      },
      "source": [
        "Представить фильмы в виде бинарных векторов (numpy array) используюя следующие признаки:\n",
        "\n",
        "[Комедия, Боевик, Исторический, Бред Питт, Бенедикт Камбербэтч, Квентин Тарантино]\n",
        "\n",
        "1. Игра в имитацию [https://www.kinopoisk.ru/film/635772/]\n",
        "2. Ярость [https://www.kinopoisk.ru/film/740644/]\n",
        "3. 12 лет рабства [https://www.kinopoisk.ru/film/606646/]\n",
        "4. Однажды в Голливуде [https://www.kinopoisk.ru/film/1047883/]"
      ]
    },
    {
      "cell_type": "code",
      "execution_count": null,
      "metadata": {
        "colab": {
          "base_uri": "https://localhost:8080/"
        },
        "id": "VVNGt6QQXn9F",
        "outputId": "abd710ad-bc4c-4388-b94d-477d295edde4"
      },
      "outputs": [
        {
          "output_type": "execute_result",
          "data": {
            "text/plain": [
              "array([0, 0, 0, 0, 1, 0])"
            ]
          },
          "metadata": {},
          "execution_count": 34
        }
      ],
      "source": [
        "n1 = np.array([0, 0, 0, 0, 1, 0]) #Игра в имитацию\n",
        "n1"
      ]
    },
    {
      "cell_type": "code",
      "execution_count": null,
      "metadata": {
        "id": "rw8FA9AoZQzm"
      },
      "outputs": [],
      "source": [
        "n2 = np.array([0, 1, 0, 1, 0, 0]) #Ярость"
      ]
    },
    {
      "cell_type": "code",
      "execution_count": null,
      "metadata": {
        "id": "jGg7DliDZwX0"
      },
      "outputs": [],
      "source": [
        "n3 = np.array([0, 0, 1, 0, 1, 0]) #12 лет рабства"
      ]
    },
    {
      "cell_type": "code",
      "execution_count": null,
      "metadata": {
        "id": "p3tGUK3rZ5P9"
      },
      "outputs": [],
      "source": [
        "n4 = np.array([0,0,0,1,0,1]) #Однажды в Голливуде"
      ]
    },
    {
      "cell_type": "markdown",
      "metadata": {
        "id": "SW_XKYBgXn9G"
      },
      "source": [
        "### Задание 2."
      ]
    },
    {
      "cell_type": "markdown",
      "metadata": {
        "id": "79SuBl_cXn9H"
      },
      "source": [
        "Вычислить Евклидову норму каждого из векторов, полученных в Задании 1."
      ]
    },
    {
      "cell_type": "code",
      "execution_count": null,
      "metadata": {
        "id": "7XNntqzuXn9I",
        "colab": {
          "base_uri": "https://localhost:8080/"
        },
        "outputId": "7d0e187e-449b-466d-ba41-9049aeff969e"
      },
      "outputs": [
        {
          "output_type": "execute_result",
          "data": {
            "text/plain": [
              "1.0"
            ]
          },
          "metadata": {},
          "execution_count": 38
        }
      ],
      "source": [
        "LA.norm(n1)"
      ]
    },
    {
      "cell_type": "code",
      "source": [
        "LA.norm(n2)"
      ],
      "metadata": {
        "colab": {
          "base_uri": "https://localhost:8080/"
        },
        "id": "HSIKf6SMfIrN",
        "outputId": "25e3b390-2db1-40d2-d9b6-6e895d675d3d"
      },
      "execution_count": null,
      "outputs": [
        {
          "output_type": "execute_result",
          "data": {
            "text/plain": [
              "1.4142135623730951"
            ]
          },
          "metadata": {},
          "execution_count": 39
        }
      ]
    },
    {
      "cell_type": "code",
      "source": [
        "LA.norm(n3)"
      ],
      "metadata": {
        "colab": {
          "base_uri": "https://localhost:8080/"
        },
        "id": "Nq1BRe9TfIy4",
        "outputId": "644eba00-66b6-46f3-89a9-ee7ae6db3a9b"
      },
      "execution_count": null,
      "outputs": [
        {
          "output_type": "execute_result",
          "data": {
            "text/plain": [
              "1.4142135623730951"
            ]
          },
          "metadata": {},
          "execution_count": 40
        }
      ]
    },
    {
      "cell_type": "code",
      "source": [
        "LA.norm(n4)"
      ],
      "metadata": {
        "colab": {
          "base_uri": "https://localhost:8080/"
        },
        "id": "C1bMo0Y8fI6J",
        "outputId": "6cd9d517-de91-44cd-92cf-5de03ae251ff"
      },
      "execution_count": null,
      "outputs": [
        {
          "output_type": "execute_result",
          "data": {
            "text/plain": [
              "1.4142135623730951"
            ]
          },
          "metadata": {},
          "execution_count": 41
        }
      ]
    },
    {
      "cell_type": "markdown",
      "metadata": {
        "id": "dGo7bswOXn9J"
      },
      "source": [
        "### Задание 3."
      ]
    },
    {
      "cell_type": "markdown",
      "metadata": {
        "id": "bM6tW4h1Xn9L"
      },
      "source": [
        "Найти угол между векторами-фильмами \"Ярость\" и \"12 лет рабства\". Результатом будет являться косинусная мера, которую можно использовать для определения похожести векторов.  "
      ]
    },
    {
      "cell_type": "code",
      "source": [
        "n2 = np.array([0, 1, 0, 1, 0, 0]) #Ярость\n",
        "n3 = np.array([0, 0, 1, 0, 1, 0]) #12 лет рабства\n",
        " \n",
        "numerator = np.dot(n2, n3)\n",
        " \n",
        "n2Len = np.linalg.norm(n2)\n",
        "n3Len = np.linalg.norm(n3)\n",
        " \n",
        "denominator = n2Len * n3Len\n",
        " \n",
        "# посмотрим, чему равен косинус угла между векторами\n",
        "cosine = numerator/denominator\n",
        "cosine"
      ],
      "metadata": {
        "colab": {
          "base_uri": "https://localhost:8080/"
        },
        "id": "aAXq_Rh9Ndzo",
        "outputId": "84fb7ef2-a328-4f4c-ab0d-2e0f0dea0f0f"
      },
      "execution_count": null,
      "outputs": [
        {
          "output_type": "execute_result",
          "data": {
            "text/plain": [
              "0.0"
            ]
          },
          "metadata": {},
          "execution_count": 47
        }
      ]
    },
    {
      "cell_type": "code",
      "source": [
        "angle_radians = np.arccos(cosine)\n",
        " \n",
        "\n",
        "angle_degrees = angle_radians * 360/2/np.pi\n",
        "angle_degrees"
      ],
      "metadata": {
        "colab": {
          "base_uri": "https://localhost:8080/"
        },
        "id": "TvgW_FdIQWFs",
        "outputId": "c9af3086-86ac-4f33-f631-d87b9ea39afb"
      },
      "execution_count": null,
      "outputs": [
        {
          "output_type": "execute_result",
          "data": {
            "text/plain": [
              "90.0"
            ]
          },
          "metadata": {},
          "execution_count": 49
        }
      ]
    },
    {
      "cell_type": "markdown",
      "metadata": {
        "id": "JUfOkh-tXn9M"
      },
      "source": [
        "### Задание 4."
      ]
    },
    {
      "cell_type": "markdown",
      "metadata": {
        "id": "SkugLldhXn9N"
      },
      "source": [
        "Объединить векторы, полученные в Задании 1 в матрицу, где каждый вектор является строкой матрицы. Полученную матрицу умножить на вектор [1,2,3,4]"
      ]
    },
    {
      "cell_type": "code",
      "execution_count": null,
      "metadata": {
        "id": "FWKNNKMPXn9O",
        "colab": {
          "base_uri": "https://localhost:8080/"
        },
        "outputId": "237e2511-ca82-4444-b4a2-de1a9cd738c1"
      },
      "outputs": [
        {
          "output_type": "execute_result",
          "data": {
            "text/plain": [
              "array([[0, 0, 0, 0, 1, 0],\n",
              "       [0, 1, 0, 1, 0, 0],\n",
              "       [0, 0, 1, 0, 1, 0],\n",
              "       [0, 0, 0, 1, 0, 1]])"
            ]
          },
          "metadata": {},
          "execution_count": 67
        }
      ],
      "source": [
        "matrix = np.array([n1, n2, n3, n4])\n",
        "matrix"
      ]
    },
    {
      "cell_type": "code",
      "source": [
        "n5 = np.array([1, 2, 3, 4])\n",
        "n5"
      ],
      "metadata": {
        "colab": {
          "base_uri": "https://localhost:8080/"
        },
        "id": "bFKJRUVAQGnt",
        "outputId": "4c46854a-2766-4c16-efad-2cb3e70129a9"
      },
      "execution_count": null,
      "outputs": [
        {
          "output_type": "execute_result",
          "data": {
            "text/plain": [
              "array([1, 2, 3, 4])"
            ]
          },
          "metadata": {},
          "execution_count": 64
        }
      ]
    },
    {
      "cell_type": "code",
      "source": [
        "np.dot(n5, matrix)\n"
      ],
      "metadata": {
        "colab": {
          "base_uri": "https://localhost:8080/"
        },
        "id": "nAI3DM6LQ2Em",
        "outputId": "abfdb416-116f-414e-f14c-9684b198256f"
      },
      "execution_count": null,
      "outputs": [
        {
          "output_type": "execute_result",
          "data": {
            "text/plain": [
              "array([0, 2, 3, 6, 4, 4])"
            ]
          },
          "metadata": {},
          "execution_count": 69
        }
      ]
    },
    {
      "cell_type": "markdown",
      "metadata": {
        "id": "U6H1lCqRXn9P"
      },
      "source": [
        "### Задание 5."
      ]
    },
    {
      "cell_type": "markdown",
      "metadata": {
        "id": "iW_jMFZ6Xn9Q"
      },
      "source": [
        "Вычислить на бумаге и с помощью Python значение первой и второй производной для функции $3x(x^2+x)^3$ в точке $x=1$"
      ]
    },
    {
      "cell_type": "code",
      "source": [
        "# руками производная первого порядка будет\n",
        "# f = 3*x*(x**2+x)**3\n",
        "# f'(x) = 3((x**2 + x)**3 + 3*x(2*x+1)(x**2 + x)**2) = 21x**6 + 54x**5 + 45x**4 + 12x**3"
      ],
      "metadata": {
        "id": "eJQ-CBTRBS7Y"
      },
      "execution_count": null,
      "outputs": []
    },
    {
      "cell_type": "code",
      "source": [
        "# руками производная второго порядка будет\n",
        "# f = 3((x**2 + x)**3 + 3*x(2*x+1)(x**2 + x)**2)\n",
        "# f'(x) = 3(3(x(2(x**2+x)**2 + 2(2x+1)**2(x**2+x))+(2x+1)(x**2+x)**2)+3(2x+1)(x**2+x)**2)=126x**5 + 270x**4 + 180x**3 + 36x**2"
      ],
      "metadata": {
        "id": "UBIE4AR7Ckkt"
      },
      "execution_count": null,
      "outputs": []
    },
    {
      "cell_type": "code",
      "source": [
        "x = Symbol('x')"
      ],
      "metadata": {
        "id": "CEgO5piE_kCd"
      },
      "execution_count": null,
      "outputs": []
    },
    {
      "cell_type": "code",
      "source": [
        "f = 3*x*(x**2+x)**3"
      ],
      "metadata": {
        "id": "3zGmXAuQAIGm"
      },
      "execution_count": null,
      "outputs": []
    },
    {
      "cell_type": "code",
      "source": [
        "df_x = f.diff(x)\n",
        "df_x"
      ],
      "metadata": {
        "colab": {
          "base_uri": "https://localhost:8080/",
          "height": 41
        },
        "id": "y_hsyIRFARI3",
        "outputId": "962be29f-de47-4004-b2f1-3f3abcd83843"
      },
      "execution_count": null,
      "outputs": [
        {
          "output_type": "execute_result",
          "data": {
            "text/plain": [
              "3*x*(6*x + 3)*(x**2 + x)**2 + 3*(x**2 + x)**3"
            ],
            "text/latex": "$\\displaystyle 3 x \\left(6 x + 3\\right) \\left(x^{2} + x\\right)^{2} + 3 \\left(x^{2} + x\\right)^{3}$"
          },
          "metadata": {},
          "execution_count": 6
        }
      ]
    },
    {
      "cell_type": "code",
      "source": [
        "# значение производной первого порядка в точке x=1\n",
        "print( df_x.subs( x, 1 ) )"
      ],
      "metadata": {
        "colab": {
          "base_uri": "https://localhost:8080/",
          "height": 183
        },
        "id": "CK_Kws7PJQWR",
        "outputId": "aaca2a6e-f7ef-4873-e5d0-1573591ba711"
      },
      "execution_count": null,
      "outputs": [
        {
          "output_type": "error",
          "ename": "NameError",
          "evalue": "ignored",
          "traceback": [
            "\u001b[0;31m---------------------------------------------------------------------------\u001b[0m",
            "\u001b[0;31mNameError\u001b[0m                                 Traceback (most recent call last)",
            "\u001b[0;32m<ipython-input-4-b90b91a818d4>\u001b[0m in \u001b[0;36m<module>\u001b[0;34m()\u001b[0m\n\u001b[1;32m      1\u001b[0m \u001b[0;31m# значение производной первого порядка в точке x=1\u001b[0m\u001b[0;34m\u001b[0m\u001b[0;34m\u001b[0m\u001b[0;34m\u001b[0m\u001b[0m\n\u001b[0;32m----> 2\u001b[0;31m \u001b[0mprint\u001b[0m\u001b[0;34m(\u001b[0m \u001b[0mdf_x\u001b[0m\u001b[0;34m.\u001b[0m\u001b[0msubs\u001b[0m\u001b[0;34m(\u001b[0m \u001b[0mx\u001b[0m\u001b[0;34m,\u001b[0m \u001b[0;36m1\u001b[0m \u001b[0;34m)\u001b[0m \u001b[0;34m)\u001b[0m\u001b[0;34m\u001b[0m\u001b[0;34m\u001b[0m\u001b[0m\n\u001b[0m",
            "\u001b[0;31mNameError\u001b[0m: name 'df_x' is not defined"
          ]
        }
      ]
    },
    {
      "cell_type": "code",
      "source": [
        "f_y = y.diff(x)\n",
        "f_y"
      ],
      "metadata": {
        "colab": {
          "base_uri": "https://localhost:8080/",
          "height": 41
        },
        "id": "zJnI2OaJAykk",
        "outputId": "b533da22-55db-4c2f-d076-2c8bf9e7bb97"
      },
      "execution_count": null,
      "outputs": [
        {
          "output_type": "execute_result",
          "data": {
            "text/plain": [
              "3*x*(4*x + 2)*(6*x + 3)*(x**2 + x) + 18*x*(x**2 + x)**2 + 6*(6*x + 3)*(x**2 + x)**2"
            ],
            "text/latex": "$\\displaystyle 3 x \\left(4 x + 2\\right) \\left(6 x + 3\\right) \\left(x^{2} + x\\right) + 18 x \\left(x^{2} + x\\right)^{2} + 6 \\left(6 x + 3\\right) \\left(x^{2} + x\\right)^{2}$"
          },
          "metadata": {},
          "execution_count": 21
        }
      ]
    },
    {
      "cell_type": "code",
      "source": [
        "# значение производной второго порядка в точке x=1\n",
        "print( f_y.subs( x, 1 ) )"
      ],
      "metadata": {
        "colab": {
          "base_uri": "https://localhost:8080/"
        },
        "id": "pJlKRkyXJobk",
        "outputId": "ea8a88c1-cdf0-4e0b-b0c1-49d58fa6d5c6"
      },
      "execution_count": null,
      "outputs": [
        {
          "output_type": "stream",
          "name": "stdout",
          "text": [
            "612\n"
          ]
        }
      ]
    }
  ],
  "metadata": {
    "colab": {
      "name": "1 ДЗ Линейная алгебра. Вектора.ipynb",
      "provenance": [],
      "collapsed_sections": [],
      "include_colab_link": true
    },
    "kernelspec": {
      "display_name": "Python 3",
      "language": "python",
      "name": "python3"
    },
    "language_info": {
      "codemirror_mode": {
        "name": "ipython",
        "version": 3
      },
      "file_extension": ".py",
      "mimetype": "text/x-python",
      "name": "python",
      "nbconvert_exporter": "python",
      "pygments_lexer": "ipython3",
      "version": "3.7.6"
    }
  },
  "nbformat": 4,
  "nbformat_minor": 0
}