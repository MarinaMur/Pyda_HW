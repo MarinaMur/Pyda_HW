{
 "cells": [
  {
   "cell_type": "markdown",
   "metadata": {},
   "source": [
    "# Задание 1\n",
    "# Дана переменная, в которой хранится слово из латинских букв. Напишите код, который выводит на экран:\n",
    "# среднюю букву, если число букв в слове четное; две средних буквы, если число букв нечетное."
   ]
  },
  {
   "cell_type": "code",
   "execution_count": 64,
   "metadata": {},
   "outputs": [
    {
     "name": "stdout",
     "output_type": "stream",
     "text": [
      "Результат:  t\n"
     ]
    }
   ],
   "source": [
    "word = 'testing'\n",
    "\n",
    "# Вводим переменную\n",
    "b = 1\n",
    "# Находим среднюю букву в слове, используя чельночисловое деление\n",
    "i = len(word) // 2\n",
    "# Проверяем количество букв в слове. В зависимости от него выводим две средние, или одну среднюю\n",
    "if len(word) % 2 == 0:\n",
    "    print('Результат: ', word[i-b:i+b])\n",
    "else:\n",
    "    print('Результат: ', word[i])"
   ]
  },
  {
   "cell_type": "markdown",
   "metadata": {},
   "source": [
    "# Задание 2\n",
    "# Напишите программу, которая последовательно запрашивает у пользователя числа (по одному за раз) и после первого нуля выводит сумму всех ранее введенных чисел."
   ]
  },
  {
   "cell_type": "code",
   "execution_count": 185,
   "metadata": {},
   "outputs": [
    {
     "name": "stdout",
     "output_type": "stream",
     "text": [
      "Введите число: 6\n",
      "Введите число: 1\n",
      "Введите число: 2\n",
      "Введите число: 0\n",
      "Результат =  9\n"
     ]
    }
   ],
   "source": [
    "# Вводим переменную.\n",
    "sum_ = 0\n",
    "\n",
    "# В цикле проверяем: при вводе числа оставляем\n",
    "while True:\n",
    "    user_input = int(input('Введите число: '))\n",
    "    # При вводе значения равное 0 цикл завершается\n",
    "    if user_input == 0:\n",
    "        break\n",
    "    # При вводе значений, отличных от 0 суммируются значения\n",
    "    sum_ += user_input\n",
    "            \n",
    "print ('Результат = ', sum_)"
   ]
  },
  {
   "cell_type": "markdown",
   "metadata": {},
   "source": [
    "# Задание 3\n",
    "# Мы делаем MVP dating-сервиса, и у нас есть список парней и девушек.\n",
    "# Выдвигаем гипотезу: лучшие рекомендации мы получим, если просто отсортируем имена по алфавиту и познакомим людей с одинаковыми индексами после сортировки! \n",
    "# Но мы не будем никого знакомить, если кто-то может остаться без пары:"
   ]
  },
  {
   "cell_type": "code",
   "execution_count": 61,
   "metadata": {},
   "outputs": [],
   "source": [
    "boys = ['Peter', 'Alex', 'John', 'Arthur', 'Richard']\n",
    "girls = ['Kate', 'Liza', 'Kira', 'Emma', 'Trisha']"
   ]
  },
  {
   "cell_type": "code",
   "execution_count": 367,
   "metadata": {},
   "outputs": [
    {
     "name": "stdout",
     "output_type": "stream",
     "text": [
      "Идеальные пары:\n",
      "Alex и Emma\n",
      "Arthur и Kate\n",
      "John и Kira\n",
      "Peter и Liza\n",
      "Richard и Trisha\n"
     ]
    }
   ],
   "source": [
    "boys.sort()\n",
    "girls.sort()\n",
    "\n",
    "# Проверяем длины списков равны, чтобы составить пары. Если нет выводим сообщение\n",
    "if len(boys) != len(girls):\n",
    "    print('Внимание, кто-то может остаться без пары!')\n",
    "else:\n",
    "    i = 0\n",
    "    b = 0\n",
    "    print('Идеальные пары:')\n",
    "    # В цикле выводим поочередно имя мальчика и имя девочки\n",
    "    while i < len(boys):\n",
    "        while b < len(girls):\n",
    "            # Выводим полученный результат\n",
    "            print(boys[i], 'и', girls[b])\n",
    "            i += 1\n",
    "            b += 1"
   ]
  },
  {
   "cell_type": "code",
   "execution_count": 363,
   "metadata": {},
   "outputs": [
    {
     "name": "stdout",
     "output_type": "stream",
     "text": [
      "['Alex', 'Arthur', 'John', 'Peter', 'Richard', 'Michael']\n",
      "['Emma', 'Kate', 'Kira', 'Liza', 'Trisha']\n"
     ]
    }
   ],
   "source": [
    "# Добавялем в наш список еще одно имя мальчика\n",
    "boys.append('Michael')\n",
    "print(boys)\n",
    "print(girls)"
   ]
  },
  {
   "cell_type": "code",
   "execution_count": 364,
   "metadata": {},
   "outputs": [
    {
     "name": "stdout",
     "output_type": "stream",
     "text": [
      "Внимание, кто-то может остаться без пары!\n"
     ]
    }
   ],
   "source": [
    "if len(boys) != len(girls):\n",
    "    print('Внимание, кто-то может остаться без пары!')\n",
    "else:\n",
    "    i = 0\n",
    "    b = 0\n",
    "    print('Идеальные пары:')\n",
    "    while i < len(boys):\n",
    "        while b < len(girls):\n",
    "            print(boys[i], 'и', girls[b])\n",
    "            i += 1\n",
    "            b += 1"
   ]
  },
  {
   "cell_type": "markdown",
   "metadata": {},
   "source": [
    "# Задание 4\n",
    "# У нас есть список, содержащий информацию о среднедневной температуре в Фаренгейтах за произвольный период по странам (структура данных в примере). \n",
    "# Необходимо написать код, который рассчитает среднюю температуру за период в Цельсиях(!) для каждой страны."
   ]
  },
  {
   "cell_type": "code",
   "execution_count": 5,
   "metadata": {},
   "outputs": [],
   "source": [
    "countries_temperature = [\n",
    "    ['Thailand', [75.2, 77, 78.8, 73.4, 68, 75.2, 77]],\n",
    "    ['Germany', [57.2, 55.4, 59, 59, 53.6]],\n",
    "    ['Russia', [35.6, 37.4, 39.2, 41, 42.8, 39.2, 35.6]],\n",
    "    ['Poland', [50, 50, 53.6, 57.2, 55.4, 55.4]]\n",
    "]"
   ]
  },
  {
   "cell_type": "code",
   "execution_count": null,
   "metadata": {},
   "outputs": [],
   "source": [
    "Poland = [50, 50, 53.6, 57.2, 55.4, 55.4]\n",
    "print(Poland[])"
   ]
  },
  {
   "cell_type": "code",
   "execution_count": 6,
   "metadata": {},
   "outputs": [
    {
     "name": "stdout",
     "output_type": "stream",
     "text": [
      "Средняя температура в странах:\n",
      "Thailand - 23.9 C\n",
      "Germany - 13.8 C\n",
      "Russia - 3.7 C\n",
      "Poland - 12.0 C\n"
     ]
    }
   ],
   "source": [
    "i = 0\n",
    "print('Средняя температура в странах:')\n",
    "for сountry in countries_temperature:\n",
    "    # Из списка находим название страны\n",
    "    country = countries_temperature[i][0]\n",
    "    # Из списка находим значения температур в шкале Фаренгейт\n",
    "    Temp_F = countries_temperature[i][1]\n",
    "    # Находим среднюю температуру и переводим в шкалу Цельсий\n",
    "    Temp_C = ((sum(countries_temperature[i][1]) / len(countries_temperature[i][1])) - 32) * 5/9\n",
    "    # Выводим полученные значения\n",
    "    print(countries_temperature[i][0], '-', round(Temp_C, 1), 'C')\n",
    "    i += 1\n",
    "\n"
   ]
  },
  {
   "cell_type": "markdown",
   "metadata": {},
   "source": [
    "# Задание 5 (необязательное)\n",
    "# Дан поток логов по количеству просмотренных страниц для каждого пользователя. Вам необходимо написать алгоритм, который считает среднее значение просмотров на пользователя. Т. е. надо посчитать отношение суммы всех просмотров к количеству уникальных пользователей."
   ]
  },
  {
   "cell_type": "code",
   "execution_count": 78,
   "metadata": {},
   "outputs": [],
   "source": [
    "stream = [\n",
    "    '2018-01-01,user1,3',\n",
    "    '2018-01-07,user1,4',\n",
    "    '2018-03-29,user1,1',\n",
    "    '2018-04-04,user1,13',\n",
    "    '2018-01-05,user2,7',\n",
    "    '2018-06-14,user3,4',\n",
    "    '2018-07-02,user3,10',\n",
    "    '2018-03-21,user4,19',\n",
    "    '2018-03-22,user4,4',\n",
    "    '2018-04-22,user4,8',\n",
    "    '2018-05-03,user4,9',\n",
    "    '2018-05-11,user4,11',\n",
    "]"
   ]
  },
  {
   "cell_type": "code",
   "execution_count": 122,
   "metadata": {},
   "outputs": [
    {
     "name": "stdout",
     "output_type": "stream",
     "text": [
      "['2018-01-01', 'user1', '3']\n",
      "user1\n",
      "3\n",
      "['2018-01-07', 'user1', '4']\n",
      "user1\n",
      "4\n",
      "['2018-03-29', 'user1', '1']\n",
      "user1\n",
      "1\n",
      "['2018-04-04', 'user1', '13']\n",
      "user1\n",
      "13\n",
      "['2018-01-05', 'user2', '7']\n",
      "user2\n",
      "7\n",
      "['2018-06-14', 'user3', '4']\n",
      "user3\n",
      "4\n",
      "['2018-07-02', 'user3', '10']\n",
      "user3\n",
      "10\n",
      "['2018-03-21', 'user4', '19']\n",
      "user4\n",
      "19\n",
      "['2018-03-22', 'user4', '4']\n",
      "user4\n",
      "4\n",
      "['2018-04-22', 'user4', '8']\n",
      "user4\n",
      "8\n",
      "['2018-05-03', 'user4', '9']\n",
      "user4\n",
      "9\n",
      "['2018-05-11', 'user4', '11']\n",
      "user4\n",
      "11\n"
     ]
    }
   ],
   "source": [
    "i = 0\n",
    "unique_users = []\n",
    "views = []\n",
    "for el in stream:\n",
    "    list_ = (el.split(','))\n",
    "    print(list_)\n",
    "    print(list_[1])\n",
    "    print(list_[2])"
   ]
  },
  {
   "cell_type": "code",
   "execution_count": null,
   "metadata": {},
   "outputs": [],
   "source": [
    "stream = [\n",
    "    '2018-01-01,user100,150',\n",
    "    '2018-01-07,user99,205',\n",
    "    '2018-03-29,user1001,81'\n",
    "]\n",
    "Результат:\n",
    "Среднее количество просмотров на уникального пользователя: 145.33\n"
   ]
  },
  {
   "cell_type": "markdown",
   "metadata": {},
   "source": [
    "# Задание 6 (необязательное)\n",
    "# Необходимо у пользователя запрашивать набор чисел разделенных пробелом. В результате должны выводиться числа, которые повторяются в вводе более одного раза."
   ]
  },
  {
   "cell_type": "code",
   "execution_count": 2,
   "metadata": {},
   "outputs": [
    {
     "name": "stdout",
     "output_type": "stream",
     "text": [
      "1\n",
      "1\n",
      "2\n",
      "2\n",
      "3\n",
      "3\n",
      "\n",
      "1 2 3 "
     ]
    }
   ],
   "source": [
    "user_input = int(input())\n",
    "rices = []\n",
    "while True:\n",
    "    try:\n",
    "        rices.append(user_input)\n",
    "        user_input = int(input())\n",
    "    except:\n",
    "        break\n",
    "\n",
    "for i in set(rices):\n",
    "    if rices.count(i) > 1:\n",
    "        print(i, end=' ')"
   ]
  }
 ],
 "metadata": {
  "kernelspec": {
   "display_name": "Python 3",
   "language": "python",
   "name": "python3"
  },
  "language_info": {
   "codemirror_mode": {
    "name": "ipython",
    "version": 3
   },
   "file_extension": ".py",
   "mimetype": "text/x-python",
   "name": "python",
   "nbconvert_exporter": "python",
   "pygments_lexer": "ipython3",
   "version": "3.8.3"
  }
 },
 "nbformat": 4,
 "nbformat_minor": 4
}
