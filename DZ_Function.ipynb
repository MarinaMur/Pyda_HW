{
 "cells": [
  {
   "cell_type": "markdown",
   "metadata": {},
   "source": [
    "# Домашнее задание к лекции \"Функции\"\n",
    "Вам нужно помочь секретарю автоматизировать работу. Для этого нужно написать программу, которая будет на основе хранимых данных исполнять пользовательские команды.\n",
    "\n",
    "Исходные данные имеют следующую структуру:"
   ]
  },
  {
   "cell_type": "markdown",
   "metadata": {},
   "source": [
    "# Общие требования к программе:\n",
    "\n",
    "код должен быть грамотно декомпозирован (каждая функция отвечает за свою конкретную задачу, дублирующийся функционал переиспользуется, а его код не повторяется);\n",
    "в коде отсутствуют глобальные переменные (за исключением documents и directories);\n",
    "пользовательский ввод обрабатывается в цикле while до тех пор, пока пользователь явно не завершит программу (вводом команды \"q\").\n",
    "Задание 1"
   ]
  },
  {
   "cell_type": "markdown",
   "metadata": {},
   "source": [
    "# Задание 1"
   ]
  },
  {
   "cell_type": "code",
   "execution_count": 27,
   "metadata": {},
   "outputs": [],
   "source": [
    "# перечень всех документов\n",
    "\n",
    "documents = [\n",
    " {'type': 'passport', 'number': '2207 876234', 'name': 'Василий Гупкин'},\n",
    " {'type': 'invoice', 'number': '11-2', 'name': 'Геннадий Покемонов'},\n",
    " {'type': 'insurance', 'number': '10006', 'name': 'Аристарх Павлов'}\n",
    "]\n",
    "# перечень полок, на которых хранятся документы (если документ есть в documents, то \n",
    "# он обязательно должен быть и в directories)\n",
    "\n",
    "directories = {\n",
    " '1': ['2207 876234', '11-2'],\n",
    " '2': ['10006'],\n",
    " '3': []\n",
    "}\n"
   ]
  },
  {
   "cell_type": "code",
   "execution_count": 34,
   "metadata": {},
   "outputs": [
    {
     "name": "stdout",
     "output_type": "stream",
     "text": [
      "Введите номер документа: 10006\n",
      "Владелец документа: Аристарх Павлов\n"
     ]
    }
   ],
   "source": [
    "#Пункт 1. Пользователь по команде \"p\" может узнать владельца документа по его номеру\n",
    "\n",
    "def get_doc(documents):\n",
    "    doc_input = input('Введите номер документа: ')\n",
    "    for document in documents:\n",
    "        number = document['number']\n",
    "        name = document['name']\n",
    "        if doc_input == number:\n",
    "            print(f'Владелец документа: {name}')\n",
    "            return\n",
    "            \n",
    "    print('Владелец документа не найден')\n",
    "    \n",
    "    \n",
    "        \n",
    "get_doc(documents)"
   ]
  },
  {
   "cell_type": "code",
   "execution_count": 21,
   "metadata": {},
   "outputs": [
    {
     "name": "stdout",
     "output_type": "stream",
     "text": [
      "Введите номер документа: 10006\n",
      "Документ хранится на полке: 2\n"
     ]
    }
   ],
   "source": [
    "#Пункт 2. Пользователь по команде \"s\" может по номеру документа узнать на какой полке он хранится\n",
    "\n",
    "def get_key(documents):\n",
    "    dic_input = str(input('Введите номер документа: '))\n",
    "    for k, v in directories.items():\n",
    "        if dic_input in v:\n",
    "            print(f'Документ хранится на полке: {k}')\n",
    "            return \n",
    "    print('Документа не найден в базе')\n",
    "\n",
    "get_key(documents)"
   ]
  },
  {
   "cell_type": "code",
   "execution_count": 10,
   "metadata": {},
   "outputs": [
    {
     "name": "stdout",
     "output_type": "stream",
     "text": [
      "Результат:\n",
      "№: 2207 876234 , тип: passport , владелец: Василий Гупкин , полка хранения: 1\n",
      "№: 11-2 , тип: invoice , владелец: Геннадий Покемонов , полка хранения: 1\n",
      "№: 10006 , тип: insurance , владелец: Аристарх Павлов , полка хранения: 2\n"
     ]
    }
   ],
   "source": [
    "#Пункт 3. Пользователь по команде \"l\" может увидеть полную информацию по всем документам\n",
    "\n",
    "def get_info(documents, directories):\n",
    "    print('Результат:')\n",
    "    for doc in documents:\n",
    "        type_doc = doc['type']\n",
    "        doc_num = doc['number']\n",
    "        name_own = doc['name']\n",
    "        for k, v in directories.items():\n",
    "            if doc['number'] in v:\n",
    "                num = k\n",
    "                break\n",
    "            \n",
    "        print('№:', doc_num, ',', 'тип:', type_doc, ',', 'владелец:', name_own, ',', 'полка хранения:', num )\n",
    "        \n",
    "get_info(documents, directories)"
   ]
  },
  {
   "cell_type": "code",
   "execution_count": 13,
   "metadata": {},
   "outputs": [
    {
     "name": "stdout",
     "output_type": "stream",
     "text": [
      "Введите номер полки: 2\n",
      "Такая полка уже существует. Текущий перечень полок: 1,2,3 .\n"
     ]
    }
   ],
   "source": [
    "#Пункт 4. Пользователь по команде \"as\" может добавить новую полку\n",
    "\n",
    "def get_polka(directories, user_input):\n",
    "    user_input = input('Введите номер полки: ')\n",
    "    for key in directories.keys():\n",
    "\n",
    "        \n",
    "        if user_input in directories:\n",
    "            print(f'Такая полка уже существует. Текущий перечень полок:', ','.join(directories.keys()),'.')\n",
    "            return\n",
    "    \n",
    "    directories[user_input] = []\n",
    "    print(f'Полка добавлена. Текущий перечень полок ', ','.join(directories.keys()),'.')\n",
    "       \n",
    "\n",
    "get_polka(directories, user_input)"
   ]
  },
  {
   "cell_type": "code",
   "execution_count": 25,
   "metadata": {},
   "outputs": [
    {
     "name": "stdout",
     "output_type": "stream",
     "text": [
      "Введите номер полки: 1\n",
      "На полке есть документы, удалите их перед удалением полки. Текущий перечень полок  1,2,3 .\n"
     ]
    }
   ],
   "source": [
    "#Пункт 5. Пользователь по команде \"ds\" может удалить существующую полку из данных (только если она пустая)\n",
    "\n",
    "def get_del_polka(directories):\n",
    "    user_input = input('Введите номер полки: ')\n",
    "    for k, v in directories.items():\n",
    "        if user_input not in directories:\n",
    "            print(f'Такой полки не существует. Текущий перечень полок:', ','.join(directories.keys()),'.')\n",
    "            return\n",
    "        \n",
    "        elif user_input in directories and directories.get(user_input) == []:\n",
    "            del directories[user_input]\n",
    "            print(f'Полка удалена. Текущий перечень полок:', ','.join(directories.keys()),'.')\n",
    "            return\n",
    "    print(f'На полке есть документы, удалите их перед удалением полки. Текущий перечень полок ', ','.join(directories.keys()),'.')\n",
    "        \n",
    "get_del_polka(directories)"
   ]
  },
  {
   "cell_type": "code",
   "execution_count": null,
   "metadata": {},
   "outputs": [],
   "source": []
  },
  {
   "cell_type": "code",
   "execution_count": 39,
   "metadata": {},
   "outputs": [
    {
     "name": "stdout",
     "output_type": "stream",
     "text": [
      "\n",
      "- p узнать владельца по его номеру;\n",
      "- s узнать номер полки по номеру документа;\n",
      "- l полная инфо по всем документам;\n",
      "- as добавление полки;\n",
      "- ds удаление полки;\n",
      "\n",
      "Введите команду: q\n",
      "Программа завершена\n"
     ]
    }
   ],
   "source": [
    "\n",
    "\n",
    "def main(documents, directories):\n",
    "    print('\\n' '- p узнать владельца по его номеру;'\n",
    "          '\\n' '- s узнать номер полки по номеру документа;'\n",
    "          '\\n' '- l полная инфо по всем документам;'\n",
    "          '\\n' '- as добавление полки;'\n",
    "          '\\n' '- ds удаление полки;'\n",
    "          '\\n')\n",
    "    while True:    \n",
    "        user_input = input('Введите команду: ')\n",
    "        if user_input == 'p':\n",
    "            get_doc(documents)\n",
    "        elif user_input == 's':\n",
    "            get_key(directories)\n",
    "        elif user_input == 'l':\n",
    "            get_info(documents, directories)\n",
    "        elif user_input == 'as':\n",
    "            get_polka(directories, user_input)\n",
    "        elif user_input == 'ds':\n",
    "            get_del_polka(directories)\n",
    "        elif user_input == 'q':\n",
    "            print('Программа завершена')\n",
    "            break\n",
    "        else:\n",
    "            print('Введена неверная команда')\n",
    "    return\n",
    "            \n",
    "main(documents, directories)"
   ]
  }
 ],
 "metadata": {
  "kernelspec": {
   "display_name": "Python 3",
   "language": "python",
   "name": "python3"
  },
  "language_info": {
   "codemirror_mode": {
    "name": "ipython",
    "version": 3
   },
   "file_extension": ".py",
   "mimetype": "text/x-python",
   "name": "python",
   "nbconvert_exporter": "python",
   "pygments_lexer": "ipython3",
   "version": "3.8.3"
  }
 },
 "nbformat": 4,
 "nbformat_minor": 4
}
