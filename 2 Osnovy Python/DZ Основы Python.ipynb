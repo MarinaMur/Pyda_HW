{
 "cells": [
  {
   "cell_type": "markdown",
   "metadata": {},
   "source": [
    "# Задание 1\n",
    "# Даны 2 переменных, в которых хранятся строки произвольной длины: phrase_1 и phrase_2.\n",
    "# Напишите код, который проверяет какая из этих строк длиннее."
   ]
  },
  {
   "cell_type": "code",
   "execution_count": 2,
   "metadata": {},
   "outputs": [
    {
     "name": "stdout",
     "output_type": "stream",
     "text": [
      "Фраза 1 длиннее фразы 2\n"
     ]
    }
   ],
   "source": [
    "# 1\n",
    "phrase_1 = 'Насколько проще было бы писать программы, если бы не заказчики'\n",
    "phrase_2 = '640Кб должно хватить для любых задач. Билл Гейтс (по легенде)'\n",
    "\n",
    "if len (phrase_1) > len (phrase_2):\n",
    "    print ('Фраза 1 длиннее фразы 2') \n",
    "elif len (phrase_1) < len (phrase_2):\n",
    "    print ('Фраза 2 длиннее фразы 1')\n",
    "else:\n",
    "    print ('Фразы равной длины')"
   ]
  },
  {
   "cell_type": "code",
   "execution_count": 15,
   "metadata": {},
   "outputs": [
    {
     "name": "stdout",
     "output_type": "stream",
     "text": [
      "Фраза 2 длиннее фразы 1\n"
     ]
    }
   ],
   "source": [
    "# 2\n",
    "phrase_1 = '640Кб должно хватить для любых задач. Билл Гейтс (по легенде)'\n",
    "phrase_2 = 'Насколько проще было бы писать программы, если бы не заказчики'\n",
    "\n",
    "if len (phrase_1) > len (phrase_2):\n",
    "    print ('Фраза 1 длиннее фразы 2') \n",
    "elif len (phrase_1) < len (phrase_2):\n",
    "    print ('Фраза 2 длиннее фразы 1')\n",
    "else:\n",
    "    print ('Фразы равной длины')"
   ]
  },
  {
   "cell_type": "code",
   "execution_count": 16,
   "metadata": {},
   "outputs": [
    {
     "name": "stdout",
     "output_type": "stream",
     "text": [
      "Фразы равной длины\n"
     ]
    }
   ],
   "source": [
    "#3\n",
    "phrase_1 = 'Насколько проще было бы писать программы, если бы не заказчики'\n",
    "phrase_2 = 'Насколько проще было бы писать программы, если бы не заказчики'\n",
    "\n",
    "if len (phrase_1) > len (phrase_2):\n",
    "    print ('Фраза 1 длиннее фразы 2') \n",
    "elif len (phrase_1) < len (phrase_2):\n",
    "    print ('Фраза 2 длиннее фразы 1')\n",
    "else:\n",
    "    print ('Фразы равной длины')"
   ]
  },
  {
   "cell_type": "markdown",
   "metadata": {},
   "source": [
    "# Задание 2\n",
    "# Дана переменная, в которой хранится четырехзначное число (год). Необходимо написать программу, которая выведет, является ли данный год високосным или обычным."
   ]
  },
  {
   "cell_type": "code",
   "execution_count": 35,
   "metadata": {},
   "outputs": [
    {
     "name": "stdout",
     "output_type": "stream",
     "text": [
      "Введите год 2020\n",
      "Високосный год\n"
     ]
    }
   ],
   "source": [
    "#1\n",
    "year = int (input('Введите год '))\n",
    "\n",
    "if year % 4 == 0:\n",
    "    print ('Високосный год')\n",
    "else:\n",
    "    print ('Обычный год')"
   ]
  },
  {
   "cell_type": "code",
   "execution_count": 36,
   "metadata": {},
   "outputs": [
    {
     "name": "stdout",
     "output_type": "stream",
     "text": [
      "Введите год 2019\n",
      "Обычный год\n"
     ]
    }
   ],
   "source": [
    "#2\n",
    "year = int (input('Введите год '))\n",
    "\n",
    "if year % 4 == 0:\n",
    "    print ('Високосный год')\n",
    "else:\n",
    "    print ('Обычный год')"
   ]
  },
  {
   "cell_type": "markdown",
   "metadata": {},
   "source": [
    "# Задание 3\n",
    "# Необходимо написать программу, которая будет запрашивать у пользователя месяц и дату рождения и выводить соответствующий знак зодиака."
   ]
  },
  {
   "cell_type": "code",
   "execution_count": 20,
   "metadata": {},
   "outputs": [
    {
     "name": "stdout",
     "output_type": "stream",
     "text": [
      "Введите день: 30\n",
      "Введите месяц: август\n",
      "дева\n"
     ]
    }
   ],
   "source": [
    "#1\n",
    "day = int (input('Введите день: '))\n",
    "month = input('Введите месяц: ')\n",
    "\n",
    "if 20 <= day <= 31 and month == 'декабрь' or  1 <= day <= 19 and month == 'январь':\n",
    "    print ('козерог')\n",
    "elif 20 <= day <= 31 and month == 'январь' or  1 <= day <= 19 and month == 'февраль':\n",
    "    print ('водолей')\n",
    "elif 20 <= day <= 31 and month == 'февраль' or  1 <= day <= 19 and month == 'март':\n",
    "    print ('рыбы')\n",
    "elif 20 <= day <= 31 and month == 'март' or  1 <= day <= 19 and month == 'апрель':\n",
    "    print ('овен')\n",
    "elif 20 <= day <= 31 and month == 'апрель' or  1 <= day <= 19 and month == 'май':\n",
    "    print ('телец')\n",
    "elif 20 <= day <= 31 and month == 'май' or  1 <= day <= 19 and month == 'июнь':\n",
    "    print ('близнецы')\n",
    "elif 20 <= day <= 31 and month == 'июнь' or  1 <= day <= 19 and month == 'июль':\n",
    "    print ('рак')\n",
    "elif 20 <= day <= 31 and month == 'июль' or  1 <= day <= 19 and month == 'август':\n",
    "    print ('лев')\n",
    "elif 20 <= day <= 31 and month == 'август' or  1 <= day <= 19 and month == 'сентябрь':\n",
    "    print ('дева')\n",
    "elif 20 <= day <= 31 and month == 'сентябрь' or  1 <= day <= 19 and month == 'октябрь':\n",
    "    print ('весы')\n",
    "elif 20 <= day <= 31 and month == 'октябрь' or  1 <= day <= 19 and month == 'ноябрь':\n",
    "    print ('скопион')\n",
    "else:\n",
    "    print ('стрелец')"
   ]
  },
  {
   "cell_type": "code",
   "execution_count": 10,
   "metadata": {},
   "outputs": [
    {
     "name": "stdout",
     "output_type": "stream",
     "text": [
      "Введите день: 18\n",
      "Введите месяц: апрель\n",
      "овен\n"
     ]
    }
   ],
   "source": [
    "#2\n",
    "day = int (input('Введите день: '))\n",
    "month = input('Введите месяц: ')\n",
    "\n",
    "if 20 <= day <= 31 and month == 'декабрь' or  1 <= day <= 19 and month == 'январь':\n",
    "    print ('козерог')\n",
    "elif 20 <= day <= 31 and month == 'январь' or  1 <= day <= 19 and month == 'февраль':\n",
    "    print ('водолей')\n",
    "elif 20 <= day <= 31 and month == 'февраль' or  1 <= day <= 19 and month == 'март':\n",
    "    print ('рыбы')\n",
    "elif 20 <= day <= 31 and month == 'март' or  1 <= day <= 19 and month == 'апрель':\n",
    "    print ('овен')\n",
    "elif 20 <= day <= 31 and month == 'апрель' or  1 <= day <= 19 and month == 'май':\n",
    "    print ('телец')\n",
    "elif 20 <= day <= 31 and month == 'май' or  1 <= day <= 19 and month == 'июнь':\n",
    "    print ('близнецы')\n",
    "elif 20 <= day <= 31 and month == 'июнь' or  1 <= day <= 19 and month == 'июль':\n",
    "    print ('рак')\n",
    "elif 20 <= day <= 31 and month == 'июль' or  1 <= day <= 19 and month == 'август':\n",
    "    print ('лев')\n",
    "elif 20 <= day <= 31 and month == 'август' or  1 <= day <= 19 and month == 'сентябрь':\n",
    "    print ('дева')\n",
    "elif 20 <= day <= 31 and month == 'сентябрь' or  1 <= day <= 19 and month == 'октябрь':\n",
    "    print ('весы')\n",
    "elif 20 <= day <= 31 and month == 'октябрь' or  1 <= day <= 19 and month == 'ноябрь':\n",
    "    print ('скопион')\n",
    "else:\n",
    "    print ('стрелец')"
   ]
  },
  {
   "cell_type": "markdown",
   "metadata": {},
   "source": [
    "# Задание 4\n",
    "# Вам нужно написать программу для подбора упаковок по размерам товара. Размеры хранятся в переменных (в сантиметрах):"
   ]
  },
  {
   "cell_type": "code",
   "execution_count": 33,
   "metadata": {},
   "outputs": [
    {
     "name": "stdout",
     "output_type": "stream",
     "text": [
      "Упаковка для лыж\n"
     ]
    }
   ],
   "source": [
    "width = 10\n",
    "length = 205\n",
    "height = 5\n",
    "\n",
    "if length >200:\n",
    "    print ('Упаковка для лыж')\n",
    "elif width < 15 and length < 15 and height < 15:\n",
    "    print ('Коробка №1')\n",
    "elif 15 < width > 50 or 15 < length > 50 or 15 < height > 50:\n",
    "    print ('Коробка №2')\n",
    "else:\n",
    "    print ('Стандартная коробка №3')"
   ]
  },
  {
   "cell_type": "markdown",
   "metadata": {},
   "source": [
    "# Задание 5 (необязательное)\n",
    "# Дана переменная, в которой хранится шестизначное число (номер проездного билета). Напишите программу, которая будет определять, является ли данный билет \"счастливым\". Билет считается счастливым, если сумма первых трех цифр совпадает с суммой последних трех цифр номера."
   ]
  },
  {
   "cell_type": "code",
   "execution_count": 8,
   "metadata": {},
   "outputs": [
    {
     "name": "stdout",
     "output_type": "stream",
     "text": [
      "несчастливый билет\n"
     ]
    }
   ],
   "source": [
    "#1\n",
    "number = 123456\n",
    "\n",
    "num_1 = number // 100000\n",
    "num_2 = number % 100000 // 10000\n",
    "num_3 = number % 10000 // 1000\n",
    "num_4 = number % 1000 // 100\n",
    "num_5 = number % 100 // 10\n",
    "num_6 = number % 10 // 1\n",
    "\n",
    "if num_1 + num_2 + num_3 == num_4 + num_5 + num_6:\n",
    "    print ('счастливый билет')\n",
    "else:\n",
    "    print ('несчастливый билет')"
   ]
  },
  {
   "cell_type": "code",
   "execution_count": null,
   "metadata": {},
   "outputs": [],
   "source": [
    "#2\n",
    "number = 123321\n",
    "\n",
    "num_1 = number // 100000\n",
    "num_2 = number % 100000 // 10000\n",
    "num_3 = number % 10000 // 1000\n",
    "num_4 = number % 1000 // 100\n",
    "num_5 = number % 100 // 10\n",
    "num_6 = number % 10 // 1\n",
    "\n",
    "if num_1 + num_2 + num_3 == num_4 + num_5 + num_6:\n",
    "    print ('счастливый билет')\n",
    "else:\n",
    "    print ('несчастливый билет')"
   ]
  },
  {
   "cell_type": "markdown",
   "metadata": {},
   "source": [
    "# Задание 6 (необязательное)\n",
    "# Напишите программу, которая сможет вычислять площади трех фигур (круг, треугольник и прямоугольник)"
   ]
  },
  {
   "cell_type": "code",
   "execution_count": 3,
   "metadata": {},
   "outputs": [
    {
     "name": "stdout",
     "output_type": "stream",
     "text": [
      "Введите тип фигуры: прямоугольник\n",
      "Введите длину L: 4\n",
      "Введите длину H: 20\n",
      "Площадь прямоугольника 80\n"
     ]
    }
   ],
   "source": [
    "figura = input ('Введите тип фигуры: ')\n",
    "\n",
    "if figura == 'круг':\n",
    "    print ('Площадь круга: ', \n",
    "           int(input('Введите радиус: ')) **2 * 3.14)\n",
    "elif figura == 'треугольник':\n",
    "    print ('Площадь треугольника: ',\n",
    "           int(input('Введите длину A: ')), \n",
    "           int(input('Введите длину В: ')),\n",
    "           int(input('Введите длину С: ')))\n",
    "elif figura == 'прямоугольник':\n",
    "    print ('Площадь прямоугольника', \n",
    "           int(input('Введите длину L: ')) * int(input('Введите длину H: ')))"
   ]
  }
 ],
 "metadata": {
  "kernelspec": {
   "display_name": "Python 3",
   "language": "python",
   "name": "python3"
  },
  "language_info": {
   "codemirror_mode": {
    "name": "ipython",
    "version": 3
   },
   "file_extension": ".py",
   "mimetype": "text/x-python",
   "name": "python",
   "nbconvert_exporter": "python",
   "pygments_lexer": "ipython3",
   "version": "3.8.3"
  }
 },
 "nbformat": 4,
 "nbformat_minor": 4
}
